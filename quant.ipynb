{
 "cells": [
  {
   "cell_type": "code",
   "execution_count": 1,
   "id": "5ef45db8-ccd9-4b50-a5db-2363b0c4fa4f",
   "metadata": {},
   "outputs": [],
   "source": [
    "from statsmodels.regression.rolling import RollingOLS\n",
    "import pandas_datareader.data as web\n",
    "import matplotlib.pyplot as plt\n",
    "import statsmodels.api as sm\n",
    "import pandas as pd\n",
    "import numpy as np\n",
    "import datetime as dt\n",
    "import yfinance as yf\n",
    "import pandas_ta"
   ]
  },
  {
   "cell_type": "code",
   "execution_count": 24,
   "id": "bd6bd36d-60b1-4a14-ad48-2c724fd712fc",
   "metadata": {},
   "outputs": [
    {
     "name": "stderr",
     "output_type": "stream",
     "text": [
      "[*********************100%%**********************]  345 of 345 completed\n"
     ]
    }
   ],
   "source": [
    "#load sp500 data\n",
    "\n",
    "sp500 = pd.read_html('https://en.wikipedia.org/wiki/List_of_S%26P_500_companies')[0]\n",
    "sp500['Symbol'] = sp500['Symbol'].str.replace('.','-')\n",
    "\n",
    "end_date = '2023-09-27'\n",
    "start_date = pd.to_datetime(end_date)-pd.DateOffset(365*8)\n",
    "\n",
    "sp500 = sp500[pd.to_datetime(sp500[\"Date added\"])<start_date]\n",
    "\n",
    "symbols_list = sp500['Symbol'].unique().tolist()\n",
    "\n",
    "df = yf.download(tickers=symbols_list, start=start_date, end=end_date).stack(future_stack=True)\n",
    "\n",
    "df.columns = df.columns.str.lower()"
   ]
  },
  {
   "cell_type": "code",
   "execution_count": 25,
   "id": "8fff588b-d824-4ab5-8c52-223e5e1476e3",
   "metadata": {},
   "outputs": [],
   "source": [
    "#calculate features\n",
    "\n",
    "df['garman_klass_vol'] = ((np.log(df['high']) - np.log(df['low']))**2)/2 - (2*np.log(2)-1)*(np.log(df['adj close']) - np.log(df['open']))**2\n",
    "df['rsi'] = df.groupby(level=1)['adj close'].transform(lambda x: pandas_ta.rsi(close=x, length=20))\n",
    "df['bb_low'] = df.groupby(level=1)['adj close'].transform(lambda x: pandas_ta.bbands(close=np.log1p(x), length=20).iloc[:,0])\n",
    "df['bb_mid'] = df.groupby(level=1)['adj close'].transform(lambda x: pandas_ta.bbands(close=np.log1p(x), length=20).iloc[:,1])\n",
    "df['bb_high'] = df.groupby(level=1)['adj close'].transform(lambda x: pandas_ta.bbands(close=np.log1p(x), length=20).iloc[:,2])\n",
    "def compute_atr(stock_data):\n",
    "    atr = pandas_ta.atr(high=stock_data['high'], low=stock_data['low'], close=stock_data['close'], length=14)\n",
    "    return atr.sub(atr.mean()).div(atr.std())\n",
    "df['atr'] = df.groupby(level=1, group_keys=False).apply(compute_atr)\n",
    "def compute_macd(close):\n",
    "    macd = pandas_ta.macd(close=close, length=20).iloc[:,0]\n",
    "    return macd.sub(macd.mean()).div(macd.std())\n",
    "df['macd'] = df.groupby(level=1, group_keys=False)['adj close'].apply(compute_macd)\n",
    "df['dollar_volume'] = (df['adj close']*df['volume'])/1e6\n"
   ]
  },
  {
   "cell_type": "code",
   "execution_count": 26,
   "id": "9e66df7c-7458-4f17-b8fb-0e32c2bdea43",
   "metadata": {},
   "outputs": [],
   "source": [
    "#aggregate to monthly level\n",
    "\n",
    "last_cols = [c for c in df.columns.unique(0) if c not in ['dollar_volume', 'volume', 'open', 'high', 'low', 'close']]\n",
    "\n",
    "data = pd.concat([df.unstack('Ticker')['dollar_volume'].resample('ME').mean().stack('Ticker', future_stack=True).to_frame('dollar_volume'),\n",
    "           df.unstack()[last_cols].resample('ME').last().stack('Ticker', future_stack=True)], axis=1).dropna()"
   ]
  },
  {
   "cell_type": "code",
   "execution_count": 27,
   "id": "c886e5ce-f2b1-40b6-9f00-504866c22bb4",
   "metadata": {},
   "outputs": [],
   "source": [
    "#calculate 5year rolling average of dollar volume for each stock\n",
    "data['dollar_volume'] = data['dollar_volume'].unstack('Ticker').rolling(5*12).mean().stack()\n",
    "data['dollar_vol_rank'] = data.groupby('Date')['dollar_volume'].rank(ascending=False)\n",
    "data = data[data['dollar_vol_rank']<150].drop(['dollar_volume', 'dollar_vol_rank'], axis=1)\n"
   ]
  },
  {
   "cell_type": "code",
   "execution_count": 28,
   "id": "b4b2268e-3e9c-4747-bf14-af3892e959f1",
   "metadata": {},
   "outputs": [],
   "source": [
    "#calculate mmonthly returns for different time horizons\n",
    "def calculate_returns(df):\n",
    "    outlier_cutoff = 0.005\n",
    "    lags = [1,2,3,6,9,12]\n",
    "    for lag in lags:\n",
    "        df[f'return_{lag}m'] = (df['adj close']\n",
    "                               .pct_change(lag)\n",
    "                               .pipe(lambda x: x.clip(lower=x.quantile(outlier_cutoff),\n",
    "                                                     upper=x.quantile(1-outlier_cutoff)))\n",
    "                               .add(1)\n",
    "                               .pow(1/lag)\n",
    "                               .sub(1))\n",
    "    return df\n",
    "data = data.groupby('Ticker', group_keys=False).apply(calculate_returns).dropna()"
   ]
  },
  {
   "cell_type": "code",
   "execution_count": 31,
   "id": "42916331-c0c6-4e3f-98df-b619554a6415",
   "metadata": {
    "scrolled": true
   },
   "outputs": [
    {
     "name": "stderr",
     "output_type": "stream",
     "text": [
      "C:\\Users\\Thoma\\AppData\\Local\\Temp\\ipykernel_28040\\1216681836.py:2: FutureWarning: The argument 'date_parser' is deprecated and will be removed in a future version. Please use 'date_format' instead, or read your data in as 'object' dtype and then call 'to_datetime'.\n",
      "  factor_data = web.DataReader('F-F_Research_Data_5_Factors_2x3','famafrench',start='2010')[0].drop('RF', axis =1 )\n",
      "C:\\Users\\Thoma\\AppData\\Local\\Temp\\ipykernel_28040\\1216681836.py:2: FutureWarning: The argument 'date_parser' is deprecated and will be removed in a future version. Please use 'date_format' instead, or read your data in as 'object' dtype and then call 'to_datetime'.\n",
      "  factor_data = web.DataReader('F-F_Research_Data_5_Factors_2x3','famafrench',start='2010')[0].drop('RF', axis =1 )\n",
      "C:\\Users\\Thoma\\AppData\\Local\\Temp\\ipykernel_28040\\1216681836.py:4: FutureWarning: 'M' is deprecated and will be removed in a future version, please use 'ME' instead.\n",
      "  factor_data = factor_data.resample('M').last().div(100)\n"
     ]
    }
   ],
   "source": [
    "#download fama franch factors and calculate rolling betas\n",
    "factor_data = web.DataReader('F-F_Research_Data_5_Factors_2x3','famafrench',start='2010')[0].drop('RF', axis =1 )\n",
    "factor_data.index = factor_data.index.to_timestamp()\n",
    "factor_data = factor_data.resample('M').last().div(100)\n",
    "factor_data = factor_data.join(data['return_1m']).sort_index()"
   ]
  },
  {
   "cell_type": "code",
   "execution_count": 38,
   "id": "afb18fa5-d21a-4713-94da-040822484839",
   "metadata": {},
   "outputs": [
    {
     "data": {
      "text/plain": [
       "Ticker\n",
       "AAL     24\n",
       "AAPL    24\n",
       "ABBV    24\n",
       "ABT     24\n",
       "ACN     24\n",
       "        ..\n",
       "WFC     24\n",
       "WMT     24\n",
       "WYNN    24\n",
       "XOM     24\n",
       "ZTS     10\n",
       "Length: 156, dtype: int64"
      ]
     },
     "execution_count": 38,
     "metadata": {},
     "output_type": "execute_result"
    }
   ],
   "source": [
    "factor_data.groupby(level=1).size()"
   ]
  },
  {
   "cell_type": "code",
   "execution_count": 35,
   "id": "fd10530d-0a77-4c29-9d38-90045d91e36b",
   "metadata": {},
   "outputs": [
    {
     "data": {
      "text/html": [
       "<div>\n",
       "<style scoped>\n",
       "    .dataframe tbody tr th:only-of-type {\n",
       "        vertical-align: middle;\n",
       "    }\n",
       "\n",
       "    .dataframe tbody tr th {\n",
       "        vertical-align: top;\n",
       "    }\n",
       "\n",
       "    .dataframe thead th {\n",
       "        text-align: right;\n",
       "    }\n",
       "</style>\n",
       "<table border=\"1\" class=\"dataframe\">\n",
       "  <thead>\n",
       "    <tr style=\"text-align: right;\">\n",
       "      <th></th>\n",
       "      <th>Mkt-RF</th>\n",
       "      <th>SMB</th>\n",
       "      <th>HML</th>\n",
       "      <th>RMW</th>\n",
       "      <th>CMA</th>\n",
       "      <th>return_1m</th>\n",
       "    </tr>\n",
       "    <tr>\n",
       "      <th>Date</th>\n",
       "      <th></th>\n",
       "      <th></th>\n",
       "      <th></th>\n",
       "      <th></th>\n",
       "      <th></th>\n",
       "      <th></th>\n",
       "    </tr>\n",
       "  </thead>\n",
       "  <tbody>\n",
       "    <tr>\n",
       "      <th>2021-10-31</th>\n",
       "      <td>0.0665</td>\n",
       "      <td>-0.0271</td>\n",
       "      <td>-0.0045</td>\n",
       "      <td>0.0164</td>\n",
       "      <td>-0.0144</td>\n",
       "      <td>0.058657</td>\n",
       "    </tr>\n",
       "    <tr>\n",
       "      <th>2021-11-30</th>\n",
       "      <td>-0.0155</td>\n",
       "      <td>-0.0176</td>\n",
       "      <td>-0.0044</td>\n",
       "      <td>0.0720</td>\n",
       "      <td>0.0171</td>\n",
       "      <td>0.105082</td>\n",
       "    </tr>\n",
       "    <tr>\n",
       "      <th>2021-12-31</th>\n",
       "      <td>0.0310</td>\n",
       "      <td>-0.0081</td>\n",
       "      <td>0.0325</td>\n",
       "      <td>0.0491</td>\n",
       "      <td>0.0439</td>\n",
       "      <td>0.074229</td>\n",
       "    </tr>\n",
       "    <tr>\n",
       "      <th>2022-01-31</th>\n",
       "      <td>-0.0625</td>\n",
       "      <td>-0.0406</td>\n",
       "      <td>0.1288</td>\n",
       "      <td>0.0087</td>\n",
       "      <td>0.0774</td>\n",
       "      <td>-0.015712</td>\n",
       "    </tr>\n",
       "    <tr>\n",
       "      <th>2022-02-28</th>\n",
       "      <td>-0.0229</td>\n",
       "      <td>0.0292</td>\n",
       "      <td>0.0311</td>\n",
       "      <td>-0.0210</td>\n",
       "      <td>0.0314</td>\n",
       "      <td>-0.054066</td>\n",
       "    </tr>\n",
       "  </tbody>\n",
       "</table>\n",
       "</div>"
      ],
      "text/plain": [
       "            Mkt-RF     SMB     HML     RMW     CMA  return_1m\n",
       "Date                                                         \n",
       "2021-10-31  0.0665 -0.0271 -0.0045  0.0164 -0.0144   0.058657\n",
       "2021-11-30 -0.0155 -0.0176 -0.0044  0.0720  0.0171   0.105082\n",
       "2021-12-31  0.0310 -0.0081  0.0325  0.0491  0.0439   0.074229\n",
       "2022-01-31 -0.0625 -0.0406  0.1288  0.0087  0.0774  -0.015712\n",
       "2022-02-28 -0.0229  0.0292  0.0311 -0.0210  0.0314  -0.054066"
      ]
     },
     "execution_count": 35,
     "metadata": {},
     "output_type": "execute_result"
    }
   ],
   "source": [
    "factor_data"
   ]
  },
  {
   "cell_type": "code",
   "execution_count": null,
   "id": "1311bbbb-22f0-45f0-87de-f030dba18686",
   "metadata": {},
   "outputs": [],
   "source": []
  }
 ],
 "metadata": {
  "kernelspec": {
   "display_name": "Python 3 (ipykernel)",
   "language": "python",
   "name": "python3"
  },
  "language_info": {
   "codemirror_mode": {
    "name": "ipython",
    "version": 3
   },
   "file_extension": ".py",
   "mimetype": "text/x-python",
   "name": "python",
   "nbconvert_exporter": "python",
   "pygments_lexer": "ipython3",
   "version": "3.12.4"
  }
 },
 "nbformat": 4,
 "nbformat_minor": 5
}
